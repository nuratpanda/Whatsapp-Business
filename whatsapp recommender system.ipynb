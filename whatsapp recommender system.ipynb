{
 "cells": [
  {
   "cell_type": "code",
   "execution_count": 1,
   "id": "a4d2a751",
   "metadata": {},
   "outputs": [],
   "source": [
    "import pandas as pd\n",
    "import numpy as np\n",
    "from sklearn.feature_extraction.text import TfidfVectorizer\n",
    "from sklearn.metrics.pairwise import cosine_similarity\n",
    "import ast\n",
    "import cv2"
   ]
  },
  {
   "cell_type": "code",
   "execution_count": 2,
   "id": "3a23b2e0",
   "metadata": {},
   "outputs": [],
   "source": [
    "# img = cv2.resize('WBL-logos_transparent.png', fx=0.25, fy=0.25)\n",
    "# cv2.imwrite('WBL_resized',img)"
   ]
  },
  {
   "cell_type": "code",
   "execution_count": 3,
   "id": "5f707a95",
   "metadata": {},
   "outputs": [
    {
     "data": {
      "text/plain": [
       "True"
      ]
     },
     "execution_count": 3,
     "metadata": {},
     "output_type": "execute_result"
    }
   ],
   "source": [
    "src = cv2.imread('WBL-logos_transparent.png')\n",
    "scale_percent = 50\n",
    "width = int(src.shape[1] * scale_percent)\n",
    "height = int(src.shape[0] * scale_percent)\n",
    "dsize = (width, height)\n",
    "\n",
    "# resize image\n",
    "output = cv2.resize(src, dsize)\n",
    "\n",
    "cv2.imwrite('WBL-logos_resized3_transparent.png',output) "
   ]
  },
  {
   "cell_type": "code",
   "execution_count": 4,
   "id": "3652b73a",
   "metadata": {},
   "outputs": [],
   "source": [
    "whatsapp = pd.read_csv('Recommender system (2).csv')"
   ]
  },
  {
   "cell_type": "code",
   "execution_count": 5,
   "id": "7610b2cc",
   "metadata": {},
   "outputs": [
    {
     "data": {
      "text/html": [
       "<div>\n",
       "<style scoped>\n",
       "    .dataframe tbody tr th:only-of-type {\n",
       "        vertical-align: middle;\n",
       "    }\n",
       "\n",
       "    .dataframe tbody tr th {\n",
       "        vertical-align: top;\n",
       "    }\n",
       "\n",
       "    .dataframe thead th {\n",
       "        text-align: right;\n",
       "    }\n",
       "</style>\n",
       "<table border=\"1\" class=\"dataframe\">\n",
       "  <thead>\n",
       "    <tr style=\"text-align: right;\">\n",
       "      <th></th>\n",
       "      <th>Number</th>\n",
       "      <th>Business_Name</th>\n",
       "      <th>Business_Type</th>\n",
       "      <th>Business_Address</th>\n",
       "      <th>Business_description</th>\n",
       "      <th>Business_link</th>\n",
       "      <th>Business_email</th>\n",
       "      <th>Business_products</th>\n",
       "    </tr>\n",
       "  </thead>\n",
       "  <tbody>\n",
       "    <tr>\n",
       "      <th>0</th>\n",
       "      <td>2348065202633</td>\n",
       "      <td>Kemi</td>\n",
       "      <td>Grocery Store</td>\n",
       "      <td>Odo oshi street, Idi ogun, Ijare. Akure, ondo ...</td>\n",
       "      <td>Odo oshi street, Idi ogun, Ijare. Akure, ondo ...</td>\n",
       "      <td>https://api.whatsapp.com/send/?phone=234806520...</td>\n",
       "      <td>adigunhaleematoluwakemi@gmail.com</td>\n",
       "      <td>Ankara</td>\n",
       "    </tr>\n",
       "    <tr>\n",
       "      <th>1</th>\n",
       "      <td>2349033244466</td>\n",
       "      <td>X CONCEPT MEDIA NIG LTD</td>\n",
       "      <td>DJ • Photography Videography • Music Productio...</td>\n",
       "      <td>NO 38, UCHE ONYUKWU CRESCENT, ABUJA</td>\n",
       "      <td>Born out of dreams, we recognize the importanc...</td>\n",
       "      <td>https://api.whatsapp.com/send/?phone=234903324...</td>\n",
       "      <td>xconceptmedia@gmail.com</td>\n",
       "      <td>Dj</td>\n",
       "    </tr>\n",
       "    <tr>\n",
       "      <th>2</th>\n",
       "      <td>2347011929615</td>\n",
       "      <td>Pafet Ltd</td>\n",
       "      <td>Printing Service</td>\n",
       "      <td>No 60, Bauchi Ring Road,, Jos, Nigeria</td>\n",
       "      <td>Feel free to get in touch with us. We have exp...</td>\n",
       "      <td>https://api.whatsapp.com/send/?phone=234701192...</td>\n",
       "      <td>pafetimage@gmail.com</td>\n",
       "      <td>CAR TISSUE</td>\n",
       "    </tr>\n",
       "    <tr>\n",
       "      <th>3</th>\n",
       "      <td>2348100000465</td>\n",
       "      <td>Maison Loulabelle</td>\n",
       "      <td>Shopping &amp; retail • Apparel &amp; clothing</td>\n",
       "      <td>19 Alexandria Cres, Wuse, Abuja, Nigeria</td>\n",
       "      <td>Africa's leading luxury childrenswear brand</td>\n",
       "      <td>https://api.whatsapp.com/send/?phone=234810000...</td>\n",
       "      <td>maisonloulabelle@gmail.com</td>\n",
       "      <td>Oyiza lace up back dress</td>\n",
       "    </tr>\n",
       "    <tr>\n",
       "      <th>4</th>\n",
       "      <td>2348100000018</td>\n",
       "      <td>One Day........</td>\n",
       "      <td>Beauty, cosmetic &amp; personal care</td>\n",
       "      <td>Kwari Market Gidan Nababa Badamasi Opp First Bank</td>\n",
       "      <td>Bags &amp; Shoes</td>\n",
       "      <td>https://api.whatsapp.com/send/?phone=234810000...</td>\n",
       "      <td>www.muhammadsani983@gmail.com</td>\n",
       "      <td>Bags &amp; Shoes</td>\n",
       "    </tr>\n",
       "  </tbody>\n",
       "</table>\n",
       "</div>"
      ],
      "text/plain": [
       "          Number            Business_Name  \\\n",
       "0  2348065202633                     Kemi   \n",
       "1  2349033244466  X CONCEPT MEDIA NIG LTD   \n",
       "2  2347011929615                Pafet Ltd   \n",
       "3  2348100000465        Maison Loulabelle   \n",
       "4  2348100000018          One Day........   \n",
       "\n",
       "                                       Business_Type  \\\n",
       "0                                      Grocery Store   \n",
       "1  DJ • Photography Videography • Music Productio...   \n",
       "2                                   Printing Service   \n",
       "3             Shopping & retail • Apparel & clothing   \n",
       "4                   Beauty, cosmetic & personal care   \n",
       "\n",
       "                                    Business_Address  \\\n",
       "0  Odo oshi street, Idi ogun, Ijare. Akure, ondo ...   \n",
       "1                NO 38, UCHE ONYUKWU CRESCENT, ABUJA   \n",
       "2             No 60, Bauchi Ring Road,, Jos, Nigeria   \n",
       "3           19 Alexandria Cres, Wuse, Abuja, Nigeria   \n",
       "4  Kwari Market Gidan Nababa Badamasi Opp First Bank   \n",
       "\n",
       "                                Business_description  \\\n",
       "0  Odo oshi street, Idi ogun, Ijare. Akure, ondo ...   \n",
       "1  Born out of dreams, we recognize the importanc...   \n",
       "2  Feel free to get in touch with us. We have exp...   \n",
       "3        Africa's leading luxury childrenswear brand   \n",
       "4                                       Bags & Shoes   \n",
       "\n",
       "                                       Business_link  \\\n",
       "0  https://api.whatsapp.com/send/?phone=234806520...   \n",
       "1  https://api.whatsapp.com/send/?phone=234903324...   \n",
       "2  https://api.whatsapp.com/send/?phone=234701192...   \n",
       "3  https://api.whatsapp.com/send/?phone=234810000...   \n",
       "4  https://api.whatsapp.com/send/?phone=234810000...   \n",
       "\n",
       "                      Business_email         Business_products  \n",
       "0  adigunhaleematoluwakemi@gmail.com                    Ankara  \n",
       "1            xconceptmedia@gmail.com                        Dj  \n",
       "2               pafetimage@gmail.com                CAR TISSUE  \n",
       "3         maisonloulabelle@gmail.com  Oyiza lace up back dress  \n",
       "4      www.muhammadsani983@gmail.com              Bags & Shoes  "
      ]
     },
     "execution_count": 5,
     "metadata": {},
     "output_type": "execute_result"
    }
   ],
   "source": [
    "whatsapp.head()"
   ]
  },
  {
   "cell_type": "code",
   "execution_count": 6,
   "id": "cdac358d",
   "metadata": {},
   "outputs": [
    {
     "name": "stdout",
     "output_type": "stream",
     "text": [
      "<class 'pandas.core.frame.DataFrame'>\n",
      "RangeIndex: 28 entries, 0 to 27\n",
      "Data columns (total 8 columns):\n",
      " #   Column                Non-Null Count  Dtype \n",
      "---  ------                --------------  ----- \n",
      " 0   Number                28 non-null     int64 \n",
      " 1   Business_Name         28 non-null     object\n",
      " 2   Business_Type         28 non-null     object\n",
      " 3   Business_Address      26 non-null     object\n",
      " 4   Business_description  27 non-null     object\n",
      " 5   Business_link         28 non-null     object\n",
      " 6   Business_email        21 non-null     object\n",
      " 7   Business_products     28 non-null     object\n",
      "dtypes: int64(1), object(7)\n",
      "memory usage: 1.9+ KB\n"
     ]
    }
   ],
   "source": [
    "whatsapp.info()"
   ]
  },
  {
   "cell_type": "code",
   "execution_count": 7,
   "id": "c8ac1a5f",
   "metadata": {},
   "outputs": [
    {
     "data": {
      "text/plain": [
       "0     Odo oshi street, Idi ogun, Ijare. Akure, ondo ...\n",
       "1                   NO 38, UCHE ONYUKWU CRESCENT, ABUJA\n",
       "2                No 60, Bauchi Ring Road,, Jos, Nigeria\n",
       "3              19 Alexandria Cres, Wuse, Abuja, Nigeria\n",
       "4     Kwari Market Gidan Nababa Badamasi Opp First Bank\n",
       "5      1a Ozumba Mbadiwe Victoria Island Lagos, Nigeria\n",
       "6     1 Papa Road, Toba Shopping Complex, Beside Aga...\n",
       "7     1st Floor Cancer Block, Eleganza Plaza, Wharf ...\n",
       "8     KM 46 Lekki - Epe Expy, opposite SBI hotel, Et...\n",
       "9     Seyisoge_makeovers Contact us for your:Face gl...\n",
       "10           Civic Center, Mountain View, CA 94041, USA\n",
       "11                          Catherine China importation\n",
       "12                                 Education Strategist\n",
       "13                                                  NaN\n",
       "14    No 3,Barrister Olaolu Shyllon Street, New road...\n",
       "15    No 50,Liberty road,off ring road, beside Okat ...\n",
       "16    My name is Mr Tochi.I'm an Educational consult...\n",
       "17                                We Deliver World Wide\n",
       "18    We educate and equip people with entrepreneuri...\n",
       "19    Suite 5, Olunife Shopping Complex, Stadium Roa...\n",
       "20    What's up am a graphics designer i do all kind...\n",
       "21                   Adefarati akungba akoko ondo state\n",
       "22                                      Osogbo, Nigeria\n",
       "23    Opposite Lick Sensation, Sasa Market, Oke Baal...\n",
       "24                                              Onitsha\n",
       "25                                                  NaN\n",
       "26                    30, Olaiya Street, Morogbo, Lagos\n",
       "27    17,PETRA SHOPPING MALL,ALL SAINTS ROAD,AGBOFIE...\n",
       "Name: Business_Address, dtype: object"
      ]
     },
     "execution_count": 7,
     "metadata": {},
     "output_type": "execute_result"
    }
   ],
   "source": [
    "whatsapp['Business_Address']"
   ]
  },
  {
   "cell_type": "code",
   "execution_count": 8,
   "id": "96dfcf0e",
   "metadata": {},
   "outputs": [
    {
     "data": {
      "text/plain": [
       "Index(['Number', 'Business_Name', 'Business_Type', 'Business_Address',\n",
       "       'Business_description', 'Business_link', 'Business_email',\n",
       "       'Business_products'],\n",
       "      dtype='object')"
      ]
     },
     "execution_count": 8,
     "metadata": {},
     "output_type": "execute_result"
    }
   ],
   "source": [
    "whatsapp.columns"
   ]
  },
  {
   "cell_type": "code",
   "execution_count": 9,
   "id": "bfa44395",
   "metadata": {},
   "outputs": [
    {
     "data": {
      "text/plain": [
       "0"
      ]
     },
     "execution_count": 9,
     "metadata": {},
     "output_type": "execute_result"
    }
   ],
   "source": [
    "whatsapp['Business_Name'].isnull().sum()"
   ]
  },
  {
   "cell_type": "code",
   "execution_count": 10,
   "id": "f4c82955",
   "metadata": {},
   "outputs": [
    {
     "data": {
      "text/plain": [
       "0"
      ]
     },
     "execution_count": 10,
     "metadata": {},
     "output_type": "execute_result"
    }
   ],
   "source": [
    "whatsapp['Business_Type'].isnull().sum()"
   ]
  },
  {
   "cell_type": "code",
   "execution_count": 11,
   "id": "639ace9a",
   "metadata": {},
   "outputs": [
    {
     "data": {
      "text/plain": [
       "2"
      ]
     },
     "execution_count": 11,
     "metadata": {},
     "output_type": "execute_result"
    }
   ],
   "source": [
    "whatsapp['Business_Address'].isnull().sum()"
   ]
  },
  {
   "cell_type": "code",
   "execution_count": 12,
   "id": "40d9cde4",
   "metadata": {},
   "outputs": [
    {
     "data": {
      "text/plain": [
       "1"
      ]
     },
     "execution_count": 12,
     "metadata": {},
     "output_type": "execute_result"
    }
   ],
   "source": [
    "whatsapp['Business_description'].isnull().sum()"
   ]
  },
  {
   "cell_type": "code",
   "execution_count": 13,
   "id": "62cdd3b4",
   "metadata": {},
   "outputs": [],
   "source": [
    "vectorizer = TfidfVectorizer(stop_words='english')"
   ]
  },
  {
   "cell_type": "code",
   "execution_count": 14,
   "id": "7bb00ccd",
   "metadata": {},
   "outputs": [],
   "source": [
    "word_vectors = vectorizer.fit_transform(whatsapp['Business_Type'])"
   ]
  },
  {
   "cell_type": "code",
   "execution_count": 15,
   "id": "97ecdb94",
   "metadata": {},
   "outputs": [],
   "source": [
    "# whatsapp = whatsapp.set_index('Number')"
   ]
  },
  {
   "cell_type": "code",
   "execution_count": 16,
   "id": "59258ab3",
   "metadata": {},
   "outputs": [],
   "source": [
    "indicies= pd.Series(whatsapp.index, index = whatsapp['Business_Type'])"
   ]
  },
  {
   "cell_type": "code",
   "execution_count": 17,
   "id": "e73539b8",
   "metadata": {},
   "outputs": [
    {
     "name": "stdout",
     "output_type": "stream",
     "text": [
      "Business_Type\n",
      "Grocery Store                                               0\n",
      "DJ • Photography Videography • Music Production Studio      1\n",
      "Printing Service                                            2\n",
      "Shopping & retail • Apparel & clothing                      3\n",
      "Beauty, cosmetic & personal care                            4\n",
      "Apparel & clothing                                          5\n",
      "Beauty, cosmetic & personal care                            6\n",
      "Cargo & Freight Company                                     7\n",
      "Education                                                   8\n",
      "Beauty, cosmetic & personal care                            9\n",
      "Social Media Agency                                        10\n",
      "Shopping & retail                                          11\n",
      "Education                                                  12\n",
      "Education                                                  13\n",
      "Photographer • Camera/photo • Performance & Event Venue    14\n",
      "Arts & entertainment • Event Planner                       15\n",
      "Education                                                  16\n",
      "Beauty, cosmetic & personal care                           17\n",
      "Consulting agency                                          18\n",
      "Apparel & clothing                                         19\n",
      "Graphic Designer                                           20\n",
      "Apparel & clothing                                         21\n",
      "Other                                                      22\n",
      "Shopping & retail • Education                              23\n",
      "Educational Consultant                                     24\n",
      "Apparel & clothing                                         25\n",
      "Education                                                  26\n",
      "Contractor                                                 27\n",
      "dtype: int64\n"
     ]
    }
   ],
   "source": [
    "print(indicies)"
   ]
  },
  {
   "cell_type": "code",
   "execution_count": 18,
   "id": "313a2534",
   "metadata": {},
   "outputs": [
    {
     "data": {
      "text/plain": [
       "(28, 40)"
      ]
     },
     "execution_count": 18,
     "metadata": {},
     "output_type": "execute_result"
    }
   ],
   "source": [
    "word_vectors.shape"
   ]
  },
  {
   "cell_type": "code",
   "execution_count": 19,
   "id": "dcce6609",
   "metadata": {},
   "outputs": [],
   "source": [
    "similarity_scores = cosine_similarity(word_vectors)"
   ]
  },
  {
   "cell_type": "code",
   "execution_count": null,
   "id": "4b02b23c",
   "metadata": {},
   "outputs": [],
   "source": []
  },
  {
   "cell_type": "code",
   "execution_count": 20,
   "id": "1c542ee5",
   "metadata": {},
   "outputs": [
    {
     "data": {
      "text/plain": [
       "(28, 28)"
      ]
     },
     "execution_count": 20,
     "metadata": {},
     "output_type": "execute_result"
    }
   ],
   "source": [
    "similarity_scores.shape"
   ]
  },
  {
   "cell_type": "code",
   "execution_count": 21,
   "id": "4b3d967a",
   "metadata": {},
   "outputs": [],
   "source": [
    "indicies = indicies.groupby(indicies.index).first()"
   ]
  },
  {
   "cell_type": "code",
   "execution_count": 22,
   "id": "4fb6d4b4",
   "metadata": {},
   "outputs": [],
   "source": [
    "def recommend(m_des, similarity_scores, k = 5):\n",
    "    m_id = indicies[m_des]\n",
    "    similar_item_scores = list(enumerate(similarity_scores[m_id]))\n",
    "    sorted_sim_scores = sorted(similar_item_scores, key = lambda x:x[1], reverse = True)[1:k+1]\n",
    "    m_index = [idx[0] for idx in sorted_sim_scores]\n",
    "    r_whatsapp = whatsapp.iloc[m_index]['Business_Type']\n",
    "    r_numbers = whatsapp.iloc[m_index]['Number']\n",
    "    r_address = whatsapp.iloc[m_index]['Business_Address']\n",
    "#     result = whatsapp.iloc[m_index]['Number']\n",
    "#     result = whatsapp\n",
    "    Biz_list = [r_whatsapp[x] for x in m_index]\n",
    "    Num_list = [r_numbers[x] for x in m_index]\n",
    "    add_list = [r_address[x] for x in m_index]\n",
    "    \n",
    "    final_series = pd.DataFrame(index = [Num_list, add_list], data = Biz_list)\n",
    "#     print(Num_list)\n",
    "    return final_series"
   ]
  },
  {
   "cell_type": "code",
   "execution_count": 23,
   "id": "bfa7f2bb",
   "metadata": {},
   "outputs": [
    {
     "data": {
      "text/html": [
       "<div>\n",
       "<style scoped>\n",
       "    .dataframe tbody tr th:only-of-type {\n",
       "        vertical-align: middle;\n",
       "    }\n",
       "\n",
       "    .dataframe tbody tr th {\n",
       "        vertical-align: top;\n",
       "    }\n",
       "\n",
       "    .dataframe thead th {\n",
       "        text-align: right;\n",
       "    }\n",
       "</style>\n",
       "<table border=\"1\" class=\"dataframe\">\n",
       "  <thead>\n",
       "    <tr style=\"text-align: right;\">\n",
       "      <th></th>\n",
       "      <th></th>\n",
       "      <th>0</th>\n",
       "    </tr>\n",
       "  </thead>\n",
       "  <tbody>\n",
       "    <tr>\n",
       "      <th>2348132084652</th>\n",
       "      <th>1 Papa Road, Toba Shopping Complex, Beside Agarahu Complex Oju-ore Ota</th>\n",
       "      <td>Beauty, cosmetic &amp; personal care</td>\n",
       "    </tr>\n",
       "    <tr>\n",
       "      <th>2347053347615</th>\n",
       "      <th>Seyisoge_makeovers Contact us for your:Face glam and Gele tying, Training Makeup products</th>\n",
       "      <td>Beauty, cosmetic &amp; personal care</td>\n",
       "    </tr>\n",
       "    <tr>\n",
       "      <th>2348052673193</th>\n",
       "      <th>We Deliver World Wide</th>\n",
       "      <td>Beauty, cosmetic &amp; personal care</td>\n",
       "    </tr>\n",
       "    <tr>\n",
       "      <th>2348065202633</th>\n",
       "      <th>Odo oshi street, Idi ogun, Ijare. Akure, ondo state</th>\n",
       "      <td>Grocery Store</td>\n",
       "    </tr>\n",
       "    <tr>\n",
       "      <th>2349033244466</th>\n",
       "      <th>NO 38, UCHE ONYUKWU CRESCENT, ABUJA</th>\n",
       "      <td>DJ • Photography Videography • Music Productio...</td>\n",
       "    </tr>\n",
       "  </tbody>\n",
       "</table>\n",
       "</div>"
      ],
      "text/plain": [
       "                                                                                                                  0\n",
       "2348132084652 1 Papa Road, Toba Shopping Complex, Beside Agar...                   Beauty, cosmetic & personal care\n",
       "2347053347615 Seyisoge_makeovers Contact us for your:Face gla...                   Beauty, cosmetic & personal care\n",
       "2348052673193 We Deliver World Wide                                                Beauty, cosmetic & personal care\n",
       "2348065202633 Odo oshi street, Idi ogun, Ijare. Akure, ondo s...                                      Grocery Store\n",
       "2349033244466 NO 38, UCHE ONYUKWU CRESCENT, ABUJA                 DJ • Photography Videography • Music Productio..."
      ]
     },
     "execution_count": 23,
     "metadata": {},
     "output_type": "execute_result"
    }
   ],
   "source": [
    "recommend('Beauty, cosmetic & personal care', similarity_scores)"
   ]
  },
  {
   "cell_type": "code",
   "execution_count": 24,
   "id": "de1598aa",
   "metadata": {},
   "outputs": [],
   "source": [
    "whatsapp.to_csv('whatsweb.csv')"
   ]
  },
  {
   "cell_type": "code",
   "execution_count": 25,
   "id": "b8e8a4f6",
   "metadata": {},
   "outputs": [
    {
     "data": {
      "text/plain": [
       "0                                         Grocery Store\n",
       "1     DJ • Photography Videography • Music Productio...\n",
       "2                                      Printing Service\n",
       "3                Shopping & retail • Apparel & clothing\n",
       "4                      Beauty, cosmetic & personal care\n",
       "5                                    Apparel & clothing\n",
       "6                      Beauty, cosmetic & personal care\n",
       "7                               Cargo & Freight Company\n",
       "8                                             Education\n",
       "9                      Beauty, cosmetic & personal care\n",
       "10                                  Social Media Agency\n",
       "11                                    Shopping & retail\n",
       "12                                            Education\n",
       "13                                            Education\n",
       "14    Photographer • Camera/photo • Performance & Ev...\n",
       "15                 Arts & entertainment • Event Planner\n",
       "16                                            Education\n",
       "17                     Beauty, cosmetic & personal care\n",
       "18                                    Consulting agency\n",
       "19                                   Apparel & clothing\n",
       "20                                     Graphic Designer\n",
       "21                                   Apparel & clothing\n",
       "22                                                Other\n",
       "23                        Shopping & retail • Education\n",
       "24                               Educational Consultant\n",
       "25                                   Apparel & clothing\n",
       "26                                            Education\n",
       "27                                           Contractor\n",
       "Name: Business_Type, dtype: object"
      ]
     },
     "execution_count": 25,
     "metadata": {},
     "output_type": "execute_result"
    }
   ],
   "source": [
    "whatsapp['Business_Type']"
   ]
  },
  {
   "cell_type": "code",
   "execution_count": 26,
   "id": "9b5703ce",
   "metadata": {},
   "outputs": [
    {
     "data": {
      "text/plain": [
       "0                                                Ankara\n",
       "1                                                    Dj\n",
       "2                                            CAR TISSUE\n",
       "3                              Oyiza lace up back dress\n",
       "4                                          Bags & Shoes\n",
       "5                        Quoted shoulder bag with chain\n",
       "6                                         BRIDAL MAKEUP\n",
       "7                               Import and Export Agent\n",
       "8                              *TOFEL TUTORIAL ACADEMY*\n",
       "9                                             Brush set\n",
       "10                              YouTube Content creator\n",
       "11                                          Oil perfume\n",
       "12                            Essential School Policies\n",
       "13                                               School\n",
       "14                     Weddings/Portraits /home service\n",
       "15    Frame,wall clock,nylon,paper bag,stickers,mock...\n",
       "16                                      CODING FOR KIDS\n",
       "17                                                100ml\n",
       "18                        A school with a difference...\n",
       "19                                     4 by 6 bedspread\n",
       "20                                     Portrait cartoon\n",
       "21                                                 Gown\n",
       "22                  Our computer Services @SOLODEM CAFE\n",
       "23                   A room selfcon@ uniosun small gate\n",
       "24                                    Teachers Training\n",
       "25                                               Turban\n",
       "26                            Google Classroom and ZOOM\n",
       "27                           PAINTING AND INTERIOR DECO\n",
       "Name: Business_products, dtype: object"
      ]
     },
     "execution_count": 26,
     "metadata": {},
     "output_type": "execute_result"
    }
   ],
   "source": [
    "whatsapp['Business_products']"
   ]
  },
  {
   "cell_type": "code",
   "execution_count": 27,
   "id": "3fea390d",
   "metadata": {},
   "outputs": [
    {
     "data": {
      "text/html": [
       "<div>\n",
       "<style scoped>\n",
       "    .dataframe tbody tr th:only-of-type {\n",
       "        vertical-align: middle;\n",
       "    }\n",
       "\n",
       "    .dataframe tbody tr th {\n",
       "        vertical-align: top;\n",
       "    }\n",
       "\n",
       "    .dataframe thead th {\n",
       "        text-align: right;\n",
       "    }\n",
       "</style>\n",
       "<table border=\"1\" class=\"dataframe\">\n",
       "  <thead>\n",
       "    <tr style=\"text-align: right;\">\n",
       "      <th></th>\n",
       "      <th>Number</th>\n",
       "      <th>Business_Name</th>\n",
       "      <th>Business_Type</th>\n",
       "      <th>Business_Address</th>\n",
       "      <th>Business_description</th>\n",
       "      <th>Business_link</th>\n",
       "      <th>Business_email</th>\n",
       "      <th>Business_products</th>\n",
       "    </tr>\n",
       "  </thead>\n",
       "  <tbody>\n",
       "    <tr>\n",
       "      <th>6</th>\n",
       "      <td>2348132084652</td>\n",
       "      <td>Lizsmile beauty lounge</td>\n",
       "      <td>Beauty, cosmetic &amp; personal care</td>\n",
       "      <td>1 Papa Road, Toba Shopping Complex, Beside Aga...</td>\n",
       "      <td>Welcome to Lizsmile beauty lounge, your one-st...</td>\n",
       "      <td>https://api.whatsapp.com/send/?phone=234813208...</td>\n",
       "      <td>Salaamoye9@gmail.com</td>\n",
       "      <td>BRIDAL MAKEUP</td>\n",
       "    </tr>\n",
       "    <tr>\n",
       "      <th>7</th>\n",
       "      <td>2347030604506</td>\n",
       "      <td>Joakema International Limited</td>\n",
       "      <td>Cargo &amp; Freight Company</td>\n",
       "      <td>1st Floor Cancer Block, Eleganza Plaza, Wharf ...</td>\n",
       "      <td>*Customer's Satisfaction is our Utmost Priority*</td>\n",
       "      <td>https://api.whatsapp.com/send/?phone=234703060...</td>\n",
       "      <td>joakemainternational@yahoo.com</td>\n",
       "      <td>Import and Export Agent</td>\n",
       "    </tr>\n",
       "    <tr>\n",
       "      <th>8</th>\n",
       "      <td>2347035556120</td>\n",
       "      <td>Philarboi</td>\n",
       "      <td>Education</td>\n",
       "      <td>KM 46 Lekki - Epe Expy, opposite SBI hotel, Et...</td>\n",
       "      <td>We offer LECTURES &amp; REGISTRATIONS for JAMB, WA...</td>\n",
       "      <td>https://api.whatsapp.com/send/?phone=234703555...</td>\n",
       "      <td>proffelix10@gmail.com</td>\n",
       "      <td>*TOFEL TUTORIAL ACADEMY*</td>\n",
       "    </tr>\n",
       "    <tr>\n",
       "      <th>9</th>\n",
       "      <td>2347053347615</td>\n",
       "      <td>Seyisoge Makeovers</td>\n",
       "      <td>Beauty, cosmetic &amp; personal care</td>\n",
       "      <td>Seyisoge_makeovers Contact us for your:Face gl...</td>\n",
       "      <td>Seyisoge_makeovers Contact us for your:Face gl...</td>\n",
       "      <td>https://api.whatsapp.com/send/?phone=234705334...</td>\n",
       "      <td>NaN</td>\n",
       "      <td>Brush set</td>\n",
       "    </tr>\n",
       "  </tbody>\n",
       "</table>\n",
       "</div>"
      ],
      "text/plain": [
       "          Number                  Business_Name  \\\n",
       "6  2348132084652         Lizsmile beauty lounge   \n",
       "7  2347030604506  Joakema International Limited   \n",
       "8  2347035556120                      Philarboi   \n",
       "9  2347053347615             Seyisoge Makeovers   \n",
       "\n",
       "                      Business_Type  \\\n",
       "6  Beauty, cosmetic & personal care   \n",
       "7           Cargo & Freight Company   \n",
       "8                         Education   \n",
       "9  Beauty, cosmetic & personal care   \n",
       "\n",
       "                                    Business_Address  \\\n",
       "6  1 Papa Road, Toba Shopping Complex, Beside Aga...   \n",
       "7  1st Floor Cancer Block, Eleganza Plaza, Wharf ...   \n",
       "8  KM 46 Lekki - Epe Expy, opposite SBI hotel, Et...   \n",
       "9  Seyisoge_makeovers Contact us for your:Face gl...   \n",
       "\n",
       "                                Business_description  \\\n",
       "6  Welcome to Lizsmile beauty lounge, your one-st...   \n",
       "7   *Customer's Satisfaction is our Utmost Priority*   \n",
       "8  We offer LECTURES & REGISTRATIONS for JAMB, WA...   \n",
       "9  Seyisoge_makeovers Contact us for your:Face gl...   \n",
       "\n",
       "                                       Business_link  \\\n",
       "6  https://api.whatsapp.com/send/?phone=234813208...   \n",
       "7  https://api.whatsapp.com/send/?phone=234703060...   \n",
       "8  https://api.whatsapp.com/send/?phone=234703555...   \n",
       "9  https://api.whatsapp.com/send/?phone=234705334...   \n",
       "\n",
       "                   Business_email         Business_products  \n",
       "6            Salaamoye9@gmail.com             BRIDAL MAKEUP  \n",
       "7  joakemainternational@yahoo.com   Import and Export Agent  \n",
       "8           proffelix10@gmail.com  *TOFEL TUTORIAL ACADEMY*  \n",
       "9                             NaN                 Brush set  "
      ]
     },
     "execution_count": 27,
     "metadata": {},
     "output_type": "execute_result"
    }
   ],
   "source": [
    "whatsapp[6:10]"
   ]
  },
  {
   "cell_type": "code",
   "execution_count": 28,
   "id": "32c978f0",
   "metadata": {},
   "outputs": [
    {
     "data": {
      "text/html": [
       "<div>\n",
       "<style scoped>\n",
       "    .dataframe tbody tr th:only-of-type {\n",
       "        vertical-align: middle;\n",
       "    }\n",
       "\n",
       "    .dataframe tbody tr th {\n",
       "        vertical-align: top;\n",
       "    }\n",
       "\n",
       "    .dataframe thead th {\n",
       "        text-align: right;\n",
       "    }\n",
       "</style>\n",
       "<table border=\"1\" class=\"dataframe\">\n",
       "  <thead>\n",
       "    <tr style=\"text-align: right;\">\n",
       "      <th></th>\n",
       "    </tr>\n",
       "  </thead>\n",
       "  <tbody>\n",
       "  </tbody>\n",
       "</table>\n",
       "</div>"
      ],
      "text/plain": [
       "Empty DataFrame\n",
       "Columns: []\n",
       "Index: []"
      ]
     },
     "execution_count": 28,
     "metadata": {},
     "output_type": "execute_result"
    }
   ],
   "source": [
    "pd.DataFrame()"
   ]
  }
 ],
 "metadata": {
  "kernelspec": {
   "display_name": "Python 3",
   "language": "python",
   "name": "python3"
  },
  "language_info": {
   "codemirror_mode": {
    "name": "ipython",
    "version": 3
   },
   "file_extension": ".py",
   "mimetype": "text/x-python",
   "name": "python",
   "nbconvert_exporter": "python",
   "pygments_lexer": "ipython3",
   "version": "3.8.8"
  }
 },
 "nbformat": 4,
 "nbformat_minor": 5
}
